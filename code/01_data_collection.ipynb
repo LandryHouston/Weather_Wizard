{
 "cells": [
  {
   "cell_type": "code",
   "execution_count": 10,
   "metadata": {},
   "outputs": [],
   "source": [
    "from config import API_KEY"
   ]
  },
  {
   "cell_type": "code",
   "execution_count": 11,
   "metadata": {},
   "outputs": [],
   "source": [
    "import requests\n",
    "import os\n",
    "import pandas as pd\n",
    "from datetime import datetime, timedelta"
   ]
  },
  {
   "cell_type": "markdown",
   "metadata": {},
   "source": [
    "---\n",
    "\n",
    "<h2 align=\"center\">Gather New Data</h2>\n"
   ]
  },
  {
   "cell_type": "markdown",
   "metadata": {},
   "source": [
    "---\n"
   ]
  },
  {
   "cell_type": "code",
   "execution_count": 14,
   "metadata": {},
   "outputs": [],
   "source": [
    "def get_weather_data(city_name, state_code):\n",
    "    \n",
    "    '''\n",
    "        This function does the following:\n",
    "            - Gathers latitude and longitude based on city_name and state_code\n",
    "            - Takes the latitude and longitude and collects the city and state name\n",
    "            - Requests weather data for the past year\n",
    "            - Collects useful data and saves as a csv file\n",
    "    '''\n",
    "    \n",
    "    response = requests.get(f'http://api.openweathermap.org/geo/1.0/direct?q={city_name},{state_code},US&limit=1&appid={API_KEY}')\n",
    "    \n",
    "    lat = (response.json()[0]['lat'])\n",
    "    lon = (response.json()[0]['lon'])\n",
    "    \n",
    "    response = requests.get(f\"http://api.openweathermap.org/geo/1.0/reverse?lat={lat}&lon={lon}&limit=1&appid={API_KEY}\")\n",
    "\n",
    "    city, state = response.json()[0]['name'], response.json()[0]['state']\n",
    "\n",
    "    end_date = datetime.now() - timedelta(days=1)\n",
    "    start_date = end_date - timedelta(days=2)\n",
    "\n",
    "    data = []\n",
    "\n",
    "    while start_date <= end_date:\n",
    "        date_str = start_date.strftime('%Y-%m-%d')\n",
    "        url = f'https://api.openweathermap.org/data/3.0/onecall/day_summary?lat={lat}&lon={lon}&date={date_str}&appid={API_KEY}&units=imperial'\n",
    "\n",
    "        response = requests.get(url)\n",
    "        \n",
    "        if response.status_code == 200:\n",
    "            data.append(\n",
    "                {\n",
    "                    'city': city,\n",
    "                    'state': state,\n",
    "                    'date': datetime.strptime(response.json()['date'], '%Y-%m-%d').strftime('%m-%d-%Y'),\n",
    "                    'humidity (%)': round(response.json()['humidity']['afternoon']),\n",
    "                    'precipitation (in)': response.json()['precipitation']['total'],\n",
    "                    'avg_temp (°F)': round((response.json()['temperature']['min'] + response.json()['temperature']['max']) / 2),\n",
    "                    'pressure (hPa)': round(response.json()['pressure']['afternoon']),\n",
    "                    'wind (mph)': round(response.json()['wind']['max']['speed'])\n",
    "                }\n",
    "            )\n",
    "            \n",
    "            \n",
    "        start_date += timedelta(days=1)\n",
    "        \n",
    "    return pd.DataFrame(data).to_csv(f'../data/{city_name.lower().replace(\" \", \"-\")}_{state_code.lower().strip(\" \")}.csv', index=False)"
   ]
  },
  {
   "cell_type": "code",
   "execution_count": 15,
   "metadata": {},
   "outputs": [],
   "source": [
    "get_weather_data('Las Vegas', 'NV')"
   ]
  },
  {
   "cell_type": "code",
   "execution_count": 17,
   "metadata": {},
   "outputs": [
    {
     "data": {
      "text/html": [
       "<div>\n",
       "<style scoped>\n",
       "    .dataframe tbody tr th:only-of-type {\n",
       "        vertical-align: middle;\n",
       "    }\n",
       "\n",
       "    .dataframe tbody tr th {\n",
       "        vertical-align: top;\n",
       "    }\n",
       "\n",
       "    .dataframe thead th {\n",
       "        text-align: right;\n",
       "    }\n",
       "</style>\n",
       "<table border=\"1\" class=\"dataframe\">\n",
       "  <thead>\n",
       "    <tr style=\"text-align: right;\">\n",
       "      <th></th>\n",
       "      <th>city</th>\n",
       "      <th>state</th>\n",
       "      <th>date</th>\n",
       "      <th>humidity (%)</th>\n",
       "      <th>precipitation (in)</th>\n",
       "      <th>avg_temp (°F)</th>\n",
       "      <th>pressure (hPa)</th>\n",
       "      <th>wind (mph)</th>\n",
       "    </tr>\n",
       "  </thead>\n",
       "  <tbody>\n",
       "    <tr>\n",
       "      <th>0</th>\n",
       "      <td>Las Vegas</td>\n",
       "      <td>Nevada</td>\n",
       "      <td>03-09-2024</td>\n",
       "      <td>20</td>\n",
       "      <td>0.0</td>\n",
       "      <td>54</td>\n",
       "      <td>1020</td>\n",
       "      <td>23</td>\n",
       "    </tr>\n",
       "    <tr>\n",
       "      <th>1</th>\n",
       "      <td>Las Vegas</td>\n",
       "      <td>Nevada</td>\n",
       "      <td>03-10-2024</td>\n",
       "      <td>27</td>\n",
       "      <td>0.0</td>\n",
       "      <td>55</td>\n",
       "      <td>1019</td>\n",
       "      <td>23</td>\n",
       "    </tr>\n",
       "    <tr>\n",
       "      <th>2</th>\n",
       "      <td>Las Vegas</td>\n",
       "      <td>Nevada</td>\n",
       "      <td>03-11-2024</td>\n",
       "      <td>31</td>\n",
       "      <td>0.0</td>\n",
       "      <td>62</td>\n",
       "      <td>1015</td>\n",
       "      <td>14</td>\n",
       "    </tr>\n",
       "  </tbody>\n",
       "</table>\n",
       "</div>"
      ],
      "text/plain": [
       "        city   state        date  humidity (%)  precipitation (in)  \\\n",
       "0  Las Vegas  Nevada  03-09-2024            20                 0.0   \n",
       "1  Las Vegas  Nevada  03-10-2024            27                 0.0   \n",
       "2  Las Vegas  Nevada  03-11-2024            31                 0.0   \n",
       "\n",
       "   avg_temp (°F)  pressure (hPa)  wind (mph)  \n",
       "0             54            1020          23  \n",
       "1             55            1019          23  \n",
       "2             62            1015          14  "
      ]
     },
     "execution_count": 17,
     "metadata": {},
     "output_type": "execute_result"
    }
   ],
   "source": [
    "df = pd.read_csv('../data/las-vegas_nv.csv')\n",
    "df"
   ]
  },
  {
   "cell_type": "markdown",
   "metadata": {},
   "source": [
    "---\n",
    "\n",
    "<h2 align=\"center\">Gather Most Recent Data</h2>\n"
   ]
  },
  {
   "cell_type": "markdown",
   "metadata": {},
   "source": [
    "---\n"
   ]
  },
  {
   "cell_type": "code",
   "execution_count": 18,
   "metadata": {},
   "outputs": [],
   "source": [
    "def get_new_weather_data(file_path):\n",
    "    \n",
    "    '''\n",
    "        This function is like the previous get_weather_data but now it only collects new data. \n",
    "        It looks for the latest date in the CSV file and gathers information from dates after that.\n",
    "        New data is added to the existing CSV file.\n",
    "    '''\n",
    "    city, state_ext = os.path.basename(file_path).split('_')[:2]\n",
    "    city_name, state_code = city.replace('-', ' ').title(), state_ext.upper().split('.')[0]\n",
    "    \n",
    "    response = requests.get(f'http://api.openweathermap.org/geo/1.0/direct?q={city_name},{state_code},US&limit=1&appid={API_KEY}')\n",
    "    \n",
    "    lat, lon = (response.json()[0]['lat']), (response.json()[0]['lon'])\n",
    "    \n",
    "    response = requests.get(f\"http://api.openweathermap.org/geo/1.0/reverse?lat={lat}&lon={lon}&limit=1&appid={API_KEY}\")\n",
    "\n",
    "    city, state = response.json()[0]['name'], response.json()[0]['state']\n",
    "\n",
    "    data = pd.read_csv(file_path)\n",
    "    data['date'] = pd.to_datetime(data['date'], format='%m-%d-%Y')\n",
    "    \n",
    "    end_date = datetime.now() - timedelta(days=1)\n",
    "    start_date = max(data['date']) + timedelta(days=1)\n",
    "\n",
    "    data = []\n",
    "\n",
    "    while start_date <= end_date:\n",
    "        date_str = start_date.strftime('%Y-%m-%d')\n",
    "        url = f'https://api.openweathermap.org/data/3.0/onecall/day_summary?lat={lat}&lon={lon}&date={date_str}&appid={API_KEY}&units=imperial'\n",
    "\n",
    "        response = requests.get(url)\n",
    "        \n",
    "        if response.status_code == 200:\n",
    "            data.append(\n",
    "                {\n",
    "                    'city': city,\n",
    "                    'state': state,\n",
    "                    'date': datetime.strptime(response.json()['date'], '%Y-%m-%d').strftime('%m-%d-%Y'),\n",
    "                    'humidity (%)': round(response.json()['humidity']['afternoon']),\n",
    "                    'precipitation (in)': response.json()['precipitation']['total'],\n",
    "                    'avg_temp (°F)': round((response.json()['temperature']['min'] + response.json()['temperature']['max']) / 2),\n",
    "                    'pressure (hPa)': round(response.json()['pressure']['afternoon']),\n",
    "                    'wind (mph)': round(response.json()['wind']['max']['speed'])\n",
    "                }\n",
    "            )\n",
    "             \n",
    "        start_date += timedelta(days=1)\n",
    "        \n",
    "    return pd.DataFrame(data).to_csv(file_path, index=False, mode='a', header=False)"
   ]
  },
  {
   "cell_type": "code",
   "execution_count": 20,
   "metadata": {},
   "outputs": [],
   "source": [
    "files = [os.path.join('../data', file) for file in os.listdir('../data') if file.endswith('.csv')]\n",
    "\n",
    "for file_path in files:\n",
    "    get_new_weather_data(file_path)"
   ]
  }
 ],
 "metadata": {
  "kernelspec": {
   "display_name": "env_full",
   "language": "python",
   "name": "python3"
  },
  "language_info": {
   "codemirror_mode": {
    "name": "ipython",
    "version": 3
   },
   "file_extension": ".py",
   "mimetype": "text/x-python",
   "name": "python",
   "nbconvert_exporter": "python",
   "pygments_lexer": "ipython3",
   "version": "3.11.7"
  }
 },
 "nbformat": 4,
 "nbformat_minor": 2
}
